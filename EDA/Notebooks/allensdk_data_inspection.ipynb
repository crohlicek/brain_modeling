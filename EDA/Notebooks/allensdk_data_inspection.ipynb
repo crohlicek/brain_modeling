{
 "cells": [
  {
   "cell_type": "markdown",
   "id": "8b86f6de",
   "metadata": {},
   "source": [
    "In this notebook we inspect the data characteristics of our Allen SDK neural spiking data for the drifting gradient stimulus presentations. In our predictive modeling experiments so far we've seen indications that our models might be suffering from a lack of useful data. Given the number of trials and samples given in the Allen SDK that we're using, a logical explanation for data sparsity in spite of this high volume of data may be sparsity of spikes in the data itself. **In this notebook we will inspect the sparsity of the Allen SDK data we're using in our experiments.**"
   ]
  },
  {
   "cell_type": "code",
   "execution_count": 1,
   "id": "6b8a92e6",
   "metadata": {},
   "outputs": [],
   "source": [
    "import numpy as np\n",
    "import matplotlib.pyplot as plt"
   ]
  },
  {
   "cell_type": "code",
   "execution_count": 2,
   "id": "72fa60db",
   "metadata": {},
   "outputs": [],
   "source": [
    "with open('../pytorch_experiments/binary_spike_matrix_data/all_trial_data_BINNED_715093703_11_30_50.npy', 'rb') as f:\n",
    "    spikes = np.load(f, allow_pickle=True)"
   ]
  },
  {
   "cell_type": "code",
   "execution_count": 3,
   "id": "2847dbe4",
   "metadata": {},
   "outputs": [
    {
     "data": {
      "text/plain": [
       "(487, 131, 2001)"
      ]
     },
     "execution_count": 3,
     "metadata": {},
     "output_type": "execute_result"
    }
   ],
   "source": [
    "spikes.shape"
   ]
  },
  {
   "cell_type": "markdown",
   "id": "caad2d42",
   "metadata": {},
   "source": [
    "## *Question 1: How many distinct 131-vectors are actually present in this data?*"
   ]
  },
  {
   "cell_type": "code",
   "execution_count": 93,
   "id": "699fbe4a",
   "metadata": {},
   "outputs": [],
   "source": [
    "a = np.array([[1, 0, 0, 1],[1, 0, 0, 1],[1, 0, 0, 1],[1, 0, 0, 2]])\n",
    "a_unq = np.unique(a, axis=0)"
   ]
  },
  {
   "cell_type": "code",
   "execution_count": 94,
   "id": "2688e4fc",
   "metadata": {},
   "outputs": [
    {
     "data": {
      "text/plain": [
       "array([[1, 0, 0, 1],\n",
       "       [1, 0, 0, 2]])"
      ]
     },
     "execution_count": 94,
     "metadata": {},
     "output_type": "execute_result"
    }
   ],
   "source": [
    "a_unq"
   ]
  },
  {
   "cell_type": "markdown",
   "id": "191597e9",
   "metadata": {},
   "source": [
    "*Applying np.unique is annoying with a 3d array, just going to flatten it out an do it this way:*"
   ]
  },
  {
   "cell_type": "code",
   "execution_count": 95,
   "id": "4cbe0cc2",
   "metadata": {},
   "outputs": [],
   "source": [
    "spikes_reshaped = np.transpose(spikes, (0,2,1))"
   ]
  },
  {
   "cell_type": "code",
   "execution_count": 96,
   "id": "859cf561",
   "metadata": {},
   "outputs": [
    {
     "data": {
      "text/plain": [
       "(487, 2001, 131)"
      ]
     },
     "execution_count": 96,
     "metadata": {},
     "output_type": "execute_result"
    }
   ],
   "source": [
    "spikes_reshaped.shape"
   ]
  },
  {
   "cell_type": "code",
   "execution_count": 97,
   "id": "eaf0b3db",
   "metadata": {},
   "outputs": [],
   "source": [
    "spikes_reshaped = np.reshape(spikes_reshaped, (487*2001, 131))"
   ]
  },
  {
   "cell_type": "code",
   "execution_count": 98,
   "id": "ac36f30b",
   "metadata": {},
   "outputs": [
    {
     "data": {
      "text/plain": [
       "(974487, 131)"
      ]
     },
     "execution_count": 98,
     "metadata": {},
     "output_type": "execute_result"
    }
   ],
   "source": [
    "spikes_reshaped.shape"
   ]
  },
  {
   "cell_type": "code",
   "execution_count": 99,
   "id": "52b39956",
   "metadata": {},
   "outputs": [],
   "source": [
    "unique_spikes = np.unique(spikes_reshaped, axis=0)"
   ]
  },
  {
   "cell_type": "code",
   "execution_count": 100,
   "id": "0b5e07bf",
   "metadata": {},
   "outputs": [
    {
     "data": {
      "text/plain": [
       "(113883, 131)"
      ]
     },
     "execution_count": 100,
     "metadata": {},
     "output_type": "execute_result"
    }
   ],
   "source": [
    "unique_spikes.shape"
   ]
  },
  {
   "cell_type": "markdown",
   "id": "ce2b1ecf",
   "metadata": {},
   "source": [
    "**Answer: There are 113883 distinct 131-vectors in the dataset. This is $\\approx 11.7\\%$ of the data. Moral: our dataset is effectively a tenth the size we think it is.**"
   ]
  },
  {
   "cell_type": "markdown",
   "id": "8d317005",
   "metadata": {},
   "source": [
    "## *Question 2: What is the average/distribution of the lengths of zero-blocks in the data (across all trials)?*\n",
    "\n",
    "Here, a \"zero-block\" is any stretch of time-slice vectors the is all-zero. For this question a zero-block can be of length $\\geq 1$."
   ]
  },
  {
   "cell_type": "code",
   "execution_count": 101,
   "id": "c7124a0f",
   "metadata": {},
   "outputs": [
    {
     "name": "stdout",
     "output_type": "stream",
     "text": [
      "(487, 2001, 131)\n"
     ]
    }
   ],
   "source": [
    "# for simpler indexing going to put the data dimension on the outside\n",
    "# -> reshaping into (trial, sequence, dimension) form (i.e. \"tsd\")\n",
    "spikes_tsd = np.transpose(spikes, (0,2,1))\n",
    "print(spikes_tsd.shape)"
   ]
  },
  {
   "cell_type": "code",
   "execution_count": 102,
   "id": "dd796aa2",
   "metadata": {},
   "outputs": [],
   "source": [
    "zero_block_lens = {}\n",
    "\n",
    "curr_block_len = 0\n",
    "for trial in range(spikes_tsd.shape[0]):\n",
    "    for time in range(spikes_tsd.shape[1]):\n",
    "        # when we see a zero vector, accumulate the counter\n",
    "        if (spikes_tsd[trial,time] == np.zeros((131,))).all():\n",
    "            curr_block_len += 1\n",
    "        # when we don't, check how long the stretch of zeros before was\n",
    "        else:\n",
    "            if curr_block_len > 0:\n",
    "                if curr_block_len in zero_block_lens.keys():\n",
    "                    zero_block_lens[curr_block_len] += 1\n",
    "                else:\n",
    "                    zero_block_lens[curr_block_len] = 1\n",
    "                curr_block_len = 0"
   ]
  },
  {
   "cell_type": "code",
   "execution_count": 103,
   "id": "aa957686",
   "metadata": {},
   "outputs": [
    {
     "data": {
      "text/plain": [
       "{1: 133694,\n",
       " 2: 38221,\n",
       " 3: 12051,\n",
       " 4: 4090,\n",
       " 5: 1568,\n",
       " 6: 667,\n",
       " 7: 298,\n",
       " 8: 159,\n",
       " 11: 39,\n",
       " 9: 92,\n",
       " 12: 21,\n",
       " 14: 8,\n",
       " 13: 16,\n",
       " 10: 59,\n",
       " 16: 8,\n",
       " 18: 2,\n",
       " 15: 6,\n",
       " 21: 1,\n",
       " 32: 1,\n",
       " 17: 1}"
      ]
     },
     "execution_count": 103,
     "metadata": {},
     "output_type": "execute_result"
    }
   ],
   "source": [
    "zero_block_lens"
   ]
  },
  {
   "cell_type": "code",
   "execution_count": 104,
   "id": "c26df1d2",
   "metadata": {},
   "outputs": [
    {
     "data": {
      "image/png": "[encoded data removed]",
      "text/plain": [
       "<Figure size 720x504 with 1 Axes>"
      ]
     },
     "metadata": {
      "needs_background": "light"
     },
     "output_type": "display_data"
    }
   ],
   "source": [
    "val, weight = zip(*[(k, v) for k,v in zero_block_lens.items()])\n",
    "plt.figure(figsize=(10,7))\n",
    "plt.hist(val, weights=weight)\n",
    "plt.yscale('log')\n",
    "plt.xlabel('Zero-block length')\n",
    "plt.ylabel('Counts (over all trials)')\n",
    "plt.title('Distribution of zero-block lengths')\n",
    "plt.show()"
   ]
  },
  {
   "cell_type": "markdown",
   "id": "4f3dcca3",
   "metadata": {},
   "source": [
    "*... and the total number of zero-vectors in the data: 280592 out of 974487 total vectors (28.8%)*"
   ]
  },
  {
   "cell_type": "code",
   "execution_count": 105,
   "id": "e3275945",
   "metadata": {},
   "outputs": [
    {
     "data": {
      "text/plain": [
       "280592"
      ]
     },
     "execution_count": 105,
     "metadata": {},
     "output_type": "execute_result"
    }
   ],
   "source": [
    "total_zero_vecs = sum([num*leng for (leng, num) in zero_block_lens.items()])\n",
    "total_zero_vecs"
   ]
  },
  {
   "cell_type": "markdown",
   "id": "9cdc2f2f",
   "metadata": {},
   "source": [
    "***... and the average zero-block length is:***"
   ]
  },
  {
   "cell_type": "code",
   "execution_count": 106,
   "id": "001fff93",
   "metadata": {},
   "outputs": [
    {
     "name": "stdout",
     "output_type": "stream",
     "text": [
      "1.4690526800766484\n"
     ]
    }
   ],
   "source": [
    "num_zero_blocks = sum([num for (_, num) in zero_block_lens.items()])\n",
    "average_zero_block_len = total_zero_vecs/num_zero_blocks\n",
    "print(average_zero_block_len)"
   ]
  },
  {
   "cell_type": "markdown",
   "id": "ff0bc27f",
   "metadata": {},
   "source": [
    "***... and if we define a zero-block to be of length at least 2:***"
   ]
  },
  {
   "cell_type": "code",
   "execution_count": 107,
   "id": "57e8bbb5",
   "metadata": {},
   "outputs": [
    {
     "name": "stdout",
     "output_type": "stream",
     "text": [
      "2.563307042646751\n"
     ]
    }
   ],
   "source": [
    "zero_block_lens_geq2 = zero_block_lens.copy()\n",
    "zero_block_lens_geq2.pop(1)\n",
    "\n",
    "avg_zblock_geq2 = sum([num*leng for (leng, num) in zero_block_lens_geq2.items()])\\\n",
    "                    /sum([num for (_, num) in zero_block_lens_geq2.items()])\n",
    "\n",
    "print(avg_zblock_geq2)"
   ]
  },
  {
   "cell_type": "markdown",
   "id": "98b03f3b",
   "metadata": {},
   "source": [
    "### *Bonus question, what's the distribution of interspike times for these neurons*"
   ]
  },
  {
   "cell_type": "code",
   "execution_count": 79,
   "id": "cfc1f7c4",
   "metadata": {},
   "outputs": [
    {
     "data": {
      "text/plain": [
       "(2001,)"
      ]
     },
     "execution_count": 79,
     "metadata": {},
     "output_type": "execute_result"
    }
   ],
   "source": [
    "spikes[0,0].shape"
   ]
  },
  {
   "cell_type": "code",
   "execution_count": 83,
   "id": "2cff087c",
   "metadata": {},
   "outputs": [],
   "source": [
    "interspike_times = {}\n",
    "\n",
    "curr_ist = 0\n",
    "for trial in range(spikes.shape[0]):\n",
    "    for nrn in range(spikes.shape[1]):\n",
    "        for time in range(spikes.shape[2]):\n",
    "            if spikes[trial,nrn,time] == 0:\n",
    "                curr_ist += 1\n",
    "            else:\n",
    "                if curr_ist > 0:\n",
    "                    if curr_ist in interspike_times.keys():\n",
    "                        interspike_times[curr_ist] += 1\n",
    "                    else:\n",
    "                        interspike_times[curr_ist] = 1\n",
    "                    curr_ist = 0"
   ]
  },
  {
   "cell_type": "code",
   "execution_count": 1,
   "id": "a05d2198",
   "metadata": {},
   "outputs": [],
   "source": [
    "# interspike_times"
   ]
  },
  {
   "cell_type": "code",
   "execution_count": 99,
   "id": "20ea68b4",
   "metadata": {},
   "outputs": [
    {
     "data": {
      "image/png": "[encoded data removed]",
      "text/plain": [
       "<Figure size 720x504 with 1 Axes>"
      ]
     },
     "metadata": {
      "needs_background": "light"
     },
     "output_type": "display_data"
    }
   ],
   "source": [
    "val, weight = zip(*[(k, v) for k,v in interspike_times.items()])\n",
    "plt.figure(figsize=(10,7))\n",
    "plt.hist(val, bins=np.arange(start=0, stop=30000, step=100), weights=weight)\n",
    "plt.yscale('log')\n",
    "plt.xlabel('Interspike time')\n",
    "plt.ylabel('Counts (log-spaced)')\n",
    "plt.title('Distribution of interspike times')\n",
    "plt.show()"
   ]
  },
  {
   "cell_type": "markdown",
   "id": "2127a21e",
   "metadata": {},
   "source": [
    "## *Question 3: What's average number/distribution of zero-blocks per trial*\n",
    "\n",
    "Here we'll define a zero-block to be of length at least 2 (because we saw how many more single zero-vectors there are)"
   ]
  },
  {
   "cell_type": "code",
   "execution_count": 109,
   "id": "f9bae483",
   "metadata": {},
   "outputs": [],
   "source": [
    "# the number of zero-blocks will be stored along with the corresponding trial number\n",
    "zero_blocks_per_trial = {}\n",
    "\n",
    "num_blocks_in_trial = 0\n",
    "curr_block_len = 0\n",
    "for trial in range(spikes_tsd.shape[0]):\n",
    "    for time in range(spikes_tsd.shape[1]):\n",
    "        if (spikes_tsd[trial,time] == np.zeros((131,))).all():\n",
    "            curr_block_len += 1\n",
    "        else:\n",
    "            if curr_block_len > 1:\n",
    "                num_blocks_in_trial += 1\n",
    "                curr_block_len = 0\n",
    "    zero_blocks_per_trial[trial] = num_blocks_in_trial\n",
    "    num_blocks_in_trial = 0"
   ]
  },
  {
   "cell_type": "code",
   "execution_count": 2,
   "id": "29b481bf",
   "metadata": {},
   "outputs": [],
   "source": [
    "# zero_blocks_per_trial"
   ]
  },
  {
   "cell_type": "markdown",
   "id": "6b7b457d",
   "metadata": {},
   "source": [
    "***distribution across trials***"
   ]
  },
  {
   "cell_type": "code",
   "execution_count": 111,
   "id": "26854ce4",
   "metadata": {},
   "outputs": [
    {
     "data": {
      "image/png": "[encoded data removed]",
      "text/plain": [
       "<Figure size 720x504 with 1 Axes>"
      ]
     },
     "metadata": {
      "needs_background": "light"
     },
     "output_type": "display_data"
    }
   ],
   "source": [
    "plt.figure(figsize=(10,7))\n",
    "plt.hist(zero_blocks_per_trial.values(),bins=40)\n",
    "plt.xlabel('Number of zero-blocks')\n",
    "plt.ylabel('Counts')\n",
    "plt.title('Distribution of number of zero-blocks across trials')\n",
    "plt.show()"
   ]
  },
  {
   "cell_type": "markdown",
   "id": "c4789392",
   "metadata": {},
   "source": [
    "***Average number across all trials***"
   ]
  },
  {
   "cell_type": "code",
   "execution_count": 112,
   "id": "79310cc3",
   "metadata": {},
   "outputs": [
    {
     "data": {
      "text/plain": [
       "231.72484599589322"
      ]
     },
     "execution_count": 112,
     "metadata": {},
     "output_type": "execute_result"
    }
   ],
   "source": [
    "np.mean(list(zero_blocks_per_trial.values()))"
   ]
  },
  {
   "cell_type": "markdown",
   "id": "75ca8acd",
   "metadata": {},
   "source": [
    "## Getting per-channel interspike time plots"
   ]
  },
  {
   "cell_type": "markdown",
   "id": "cc7f41af",
   "metadata": {},
   "source": [
    "To further investigate the claim that our data does not have sufficient dynamical information in it to be successfully learned by our RNN, we'll check whether our interspike times are exponentially distributed."
   ]
  },
  {
   "cell_type": "markdown",
   "id": "0e28347d",
   "metadata": {},
   "source": [
    "1) Want list of interspike times for each channel"
   ]
  },
  {
   "cell_type": "code",
   "execution_count": 4,
   "id": "083745de",
   "metadata": {},
   "outputs": [],
   "source": [
    "# this list will contain 131 lists of interspike times for each channel\n",
    "interspike_times = []\n",
    "\n",
    "curr_ist = 0\n",
    "for nrn in range(spikes.shape[1]):\n",
    "    # list for this specific neuron's ISTs\n",
    "    nrn_ists = []\n",
    "    for trial in range(spikes.shape[0]):\n",
    "        curr_ist = 0\n",
    "        for time in range(spikes.shape[2]):\n",
    "            if spikes[trial,nrn,time] == 0:\n",
    "                curr_ist += 1\n",
    "            else:\n",
    "                if curr_ist > 0:\n",
    "                    nrn_ists.append(curr_ist)\n",
    "                    curr_ist = 0\n",
    "    interspike_times.append(nrn_ists)"
   ]
  },
  {
   "cell_type": "markdown",
   "id": "ba14592a",
   "metadata": {},
   "source": [
    "2) For each channel, want the (x,y) plotting coordinates – these will be given by the (bin, count) histogram values for each neuron's IST list"
   ]
  },
  {
   "cell_type": "code",
   "execution_count": 5,
   "id": "3d22dee8",
   "metadata": {},
   "outputs": [],
   "source": [
    "# np.histogram gives us the (x,y) tuple of x and y coordinate lists for a given\n",
    "# neuron's histogram\n",
    "IST_coordinates = []\n",
    "\n",
    "for nrn in range(len(interspike_times)):\n",
    "    hist_points = np.histogram(interspike_times[nrn],bins=100)\n",
    "    # the numpy hist method gives us the bounds on the histogram bins\n",
    "    # so we'll calculate the list of midpoints\n",
    "    bin_middles = [(hist_points[1][i] + hist_points[1][i+1])/2 for i in range(len(hist_points[1]) - 1)]\n",
    "    IST_coordinates.append((bin_middles, hist_points[0]))"
   ]
  },
  {
   "cell_type": "markdown",
   "id": "62e2d4e8",
   "metadata": {},
   "source": [
    "3) Want to normalize all these curves so they peak at 1 and have their y=0.5 point at the same x value"
   ]
  },
  {
   "cell_type": "code",
   "execution_count": 6,
   "id": "a2fbe1bc",
   "metadata": {
    "scrolled": true
   },
   "outputs": [],
   "source": [
    "# going to store the normalized curves in a different list\n",
    "normalized_ISTs = []\n",
    "\n",
    "for (xs, ys) in IST_coordinates:\n",
    "    y_max = max(ys)\n",
    "    # for each curve, want to first normalize the y values\n",
    "    normalized_ys = ys/y_max\n",
    "    # then we scale the x axis by the x value where we reach y=1/2\n",
    "    # --> want to iterate over the xs and store the last index where y>1/2\n",
    "    for i in range(len(xs)):\n",
    "        if normalized_ys[i] < 0.5:\n",
    "            x_half = xs[i-1]\n",
    "            break\n",
    "    normalized_xs = xs/x_half\n",
    "    normalized_ISTs.append((normalized_xs, normalized_ys))"
   ]
  },
  {
   "cell_type": "markdown",
   "id": "6a637682",
   "metadata": {},
   "source": [
    "4) Plot them all against each other"
   ]
  },
  {
   "cell_type": "code",
   "execution_count": 8,
   "id": "2fc72b2f",
   "metadata": {},
   "outputs": [
    {
     "data": {
      "image/png": "[encoded data removed]",
      "text/plain": [
       "<Figure size 720x504 with 1 Axes>"
      ]
     },
     "metadata": {
      "needs_background": "light"
     },
     "output_type": "display_data"
    }
   ],
   "source": [
    "plt.figure(figsize=(10,7))\n",
    "\n",
    "for (xs,ys) in normalized_ISTs:\n",
    "        plt.plot(xs, ys, alpha=0.3)\n",
    "\n",
    "plt.plot(np.arange(180), [np.e**(-0.5*x) for x in np.arange(180)], color='red', linestyle='-.', label=r'$e^{-0.5x}$')\n",
    "plt.plot(np.arange(180), [np.e**(-0.25*x) for x in np.arange(180)], color='red', linestyle='-.', label=r'$e^{-0.25x}$')\n",
    "plt.plot(np.arange(180), [np.e**(-0.1*x) for x in np.arange(180)], color='red', linestyle='-.', label=r'$e^{-0.1x}$')\n",
    "\n",
    "plt.xlabel('Normalized inter-spike times')\n",
    "plt.ylabel('Normalized counts')\n",
    "# plt.yscale('log')\n",
    "plt.title('Normalized spike time distributions of all neurons')\n",
    "plt.legend()\n",
    "plt.savefig('../../Summer/Data 2050/Practicum report/figures/empirical_data_ist_distribution', dpi=300)\n",
    "plt.show()"
   ]
  },
  {
   "cell_type": "code",
   "execution_count": null,
   "id": "e1696a38",
   "metadata": {},
   "outputs": [],
   "source": []
  }
 ],
 "metadata": {
  "kernelspec": {
   "display_name": "Python (pytorch_env)",
   "language": "python",
   "name": "pytorch_env"
  },
  "language_info": {
   "codemirror_mode": {
    "name": "ipython",
    "version": 3
   },
   "file_extension": ".py",
   "mimetype": "text/x-python",
   "name": "python",
   "nbconvert_exporter": "python",
   "pygments_lexer": "ipython3",
   "version": "3.7.10"
  }
 },
 "nbformat": 4,
 "nbformat_minor": 5
}
